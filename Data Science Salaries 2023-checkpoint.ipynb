{
 "cells": [
  {
   "cell_type": "markdown",
   "id": "61ba1a06",
   "metadata": {
    "scrolled": true
   },
   "source": [
    "## Importing libraries"
   ]
  },
  {
   "cell_type": "code",
   "execution_count": 1,
   "id": "53cb3ad1",
   "metadata": {},
   "outputs": [],
   "source": [
    "import numpy as np\n",
    "import pandas as pd\n",
    "import matplotlib.pyplot as plt\n",
    "import seaborn as sns\n",
    "\n",
    "from sklearn.preprocessing import StandardScaler , LabelEncoder\n",
    "from sklearn.impute import SimpleImputer\n",
    "from sklearn.model_selection import train_test_split\n",
    "from xgboost import XGBRegressor\n",
    "\n",
    "from sklearn.metrics import accuracy_score , classification_report , confusion_matrix , mean_squared_error \n",
    "\n",
    "import warnings\n",
    "warnings.filterwarnings('ignore')"
   ]
  },
  {
   "cell_type": "markdown",
   "id": "63c16288",
   "metadata": {},
   "source": [
    "## Loading Dataset , Explore Data & Data Cleaning "
   ]
  },
  {
   "cell_type": "code",
   "execution_count": 2,
   "id": "bd1cae54",
   "metadata": {
    "scrolled": true
   },
   "outputs": [
    {
     "data": {
      "text/html": [
       "<div>\n",
       "<style scoped>\n",
       "    .dataframe tbody tr th:only-of-type {\n",
       "        vertical-align: middle;\n",
       "    }\n",
       "\n",
       "    .dataframe tbody tr th {\n",
       "        vertical-align: top;\n",
       "    }\n",
       "\n",
       "    .dataframe thead th {\n",
       "        text-align: right;\n",
       "    }\n",
       "</style>\n",
       "<table border=\"1\" class=\"dataframe\">\n",
       "  <thead>\n",
       "    <tr style=\"text-align: right;\">\n",
       "      <th></th>\n",
       "      <th>work_year</th>\n",
       "      <th>experience_level</th>\n",
       "      <th>employment_type</th>\n",
       "      <th>job_title</th>\n",
       "      <th>salary</th>\n",
       "      <th>salary_currency</th>\n",
       "      <th>salary_in_usd</th>\n",
       "      <th>employee_residence</th>\n",
       "      <th>remote_ratio</th>\n",
       "      <th>company_location</th>\n",
       "      <th>company_size</th>\n",
       "    </tr>\n",
       "  </thead>\n",
       "  <tbody>\n",
       "    <tr>\n",
       "      <th>0</th>\n",
       "      <td>2023</td>\n",
       "      <td>SE</td>\n",
       "      <td>FT</td>\n",
       "      <td>Principal Data Scientist</td>\n",
       "      <td>80000</td>\n",
       "      <td>EUR</td>\n",
       "      <td>85847</td>\n",
       "      <td>ES</td>\n",
       "      <td>100</td>\n",
       "      <td>ES</td>\n",
       "      <td>L</td>\n",
       "    </tr>\n",
       "    <tr>\n",
       "      <th>1</th>\n",
       "      <td>2023</td>\n",
       "      <td>MI</td>\n",
       "      <td>CT</td>\n",
       "      <td>ML Engineer</td>\n",
       "      <td>30000</td>\n",
       "      <td>USD</td>\n",
       "      <td>30000</td>\n",
       "      <td>US</td>\n",
       "      <td>100</td>\n",
       "      <td>US</td>\n",
       "      <td>S</td>\n",
       "    </tr>\n",
       "    <tr>\n",
       "      <th>2</th>\n",
       "      <td>2023</td>\n",
       "      <td>MI</td>\n",
       "      <td>CT</td>\n",
       "      <td>ML Engineer</td>\n",
       "      <td>25500</td>\n",
       "      <td>USD</td>\n",
       "      <td>25500</td>\n",
       "      <td>US</td>\n",
       "      <td>100</td>\n",
       "      <td>US</td>\n",
       "      <td>S</td>\n",
       "    </tr>\n",
       "  </tbody>\n",
       "</table>\n",
       "</div>"
      ],
      "text/plain": [
       "   work_year experience_level employment_type                 job_title  \\\n",
       "0       2023               SE              FT  Principal Data Scientist   \n",
       "1       2023               MI              CT               ML Engineer   \n",
       "2       2023               MI              CT               ML Engineer   \n",
       "\n",
       "   salary salary_currency  salary_in_usd employee_residence  remote_ratio  \\\n",
       "0   80000             EUR          85847                 ES           100   \n",
       "1   30000             USD          30000                 US           100   \n",
       "2   25500             USD          25500                 US           100   \n",
       "\n",
       "  company_location company_size  \n",
       "0               ES            L  \n",
       "1               US            S  \n",
       "2               US            S  "
      ]
     },
     "execution_count": 2,
     "metadata": {},
     "output_type": "execute_result"
    }
   ],
   "source": [
    "df = pd.read_csv(r\"C:\\ML & CV\\Projects\\Data Science Salary 2023\\ds_salaries.csv\")\n",
    "\n",
    "df.head(3)"
   ]
  },
  {
   "cell_type": "code",
   "execution_count": 3,
   "id": "e6b40163",
   "metadata": {},
   "outputs": [
    {
     "data": {
      "text/html": [
       "<div>\n",
       "<style scoped>\n",
       "    .dataframe tbody tr th:only-of-type {\n",
       "        vertical-align: middle;\n",
       "    }\n",
       "\n",
       "    .dataframe tbody tr th {\n",
       "        vertical-align: top;\n",
       "    }\n",
       "\n",
       "    .dataframe thead th {\n",
       "        text-align: right;\n",
       "    }\n",
       "</style>\n",
       "<table border=\"1\" class=\"dataframe\">\n",
       "  <thead>\n",
       "    <tr style=\"text-align: right;\">\n",
       "      <th></th>\n",
       "      <th>work_year</th>\n",
       "      <th>experience_level</th>\n",
       "      <th>employment_type</th>\n",
       "      <th>job_title</th>\n",
       "      <th>salary</th>\n",
       "      <th>salary_currency</th>\n",
       "      <th>salary_in_usd</th>\n",
       "      <th>employee_residence</th>\n",
       "      <th>remote_ratio</th>\n",
       "      <th>company_location</th>\n",
       "      <th>company_size</th>\n",
       "    </tr>\n",
       "  </thead>\n",
       "  <tbody>\n",
       "    <tr>\n",
       "      <th>3752</th>\n",
       "      <td>2020</td>\n",
       "      <td>EN</td>\n",
       "      <td>FT</td>\n",
       "      <td>Data Scientist</td>\n",
       "      <td>105000</td>\n",
       "      <td>USD</td>\n",
       "      <td>105000</td>\n",
       "      <td>US</td>\n",
       "      <td>100</td>\n",
       "      <td>US</td>\n",
       "      <td>S</td>\n",
       "    </tr>\n",
       "    <tr>\n",
       "      <th>3753</th>\n",
       "      <td>2020</td>\n",
       "      <td>EN</td>\n",
       "      <td>CT</td>\n",
       "      <td>Business Data Analyst</td>\n",
       "      <td>100000</td>\n",
       "      <td>USD</td>\n",
       "      <td>100000</td>\n",
       "      <td>US</td>\n",
       "      <td>100</td>\n",
       "      <td>US</td>\n",
       "      <td>L</td>\n",
       "    </tr>\n",
       "    <tr>\n",
       "      <th>3754</th>\n",
       "      <td>2021</td>\n",
       "      <td>SE</td>\n",
       "      <td>FT</td>\n",
       "      <td>Data Science Manager</td>\n",
       "      <td>7000000</td>\n",
       "      <td>INR</td>\n",
       "      <td>94665</td>\n",
       "      <td>IN</td>\n",
       "      <td>50</td>\n",
       "      <td>IN</td>\n",
       "      <td>L</td>\n",
       "    </tr>\n",
       "  </tbody>\n",
       "</table>\n",
       "</div>"
      ],
      "text/plain": [
       "      work_year experience_level employment_type              job_title  \\\n",
       "3752       2020               EN              FT         Data Scientist   \n",
       "3753       2020               EN              CT  Business Data Analyst   \n",
       "3754       2021               SE              FT   Data Science Manager   \n",
       "\n",
       "       salary salary_currency  salary_in_usd employee_residence  remote_ratio  \\\n",
       "3752   105000             USD         105000                 US           100   \n",
       "3753   100000             USD         100000                 US           100   \n",
       "3754  7000000             INR          94665                 IN            50   \n",
       "\n",
       "     company_location company_size  \n",
       "3752               US            S  \n",
       "3753               US            L  \n",
       "3754               IN            L  "
      ]
     },
     "execution_count": 3,
     "metadata": {},
     "output_type": "execute_result"
    }
   ],
   "source": [
    "df.tail(3)"
   ]
  },
  {
   "cell_type": "code",
   "execution_count": 4,
   "id": "a5094bd5",
   "metadata": {},
   "outputs": [
    {
     "data": {
      "text/html": [
       "<div>\n",
       "<style scoped>\n",
       "    .dataframe tbody tr th:only-of-type {\n",
       "        vertical-align: middle;\n",
       "    }\n",
       "\n",
       "    .dataframe tbody tr th {\n",
       "        vertical-align: top;\n",
       "    }\n",
       "\n",
       "    .dataframe thead th {\n",
       "        text-align: right;\n",
       "    }\n",
       "</style>\n",
       "<table border=\"1\" class=\"dataframe\">\n",
       "  <thead>\n",
       "    <tr style=\"text-align: right;\">\n",
       "      <th></th>\n",
       "      <th>work_year</th>\n",
       "      <th>experience_level</th>\n",
       "      <th>employment_type</th>\n",
       "      <th>job_title</th>\n",
       "      <th>salary</th>\n",
       "      <th>salary_currency</th>\n",
       "      <th>salary_in_usd</th>\n",
       "      <th>employee_residence</th>\n",
       "      <th>remote_ratio</th>\n",
       "      <th>company_location</th>\n",
       "      <th>company_size</th>\n",
       "    </tr>\n",
       "  </thead>\n",
       "  <tbody>\n",
       "    <tr>\n",
       "      <th>3066</th>\n",
       "      <td>2022</td>\n",
       "      <td>SE</td>\n",
       "      <td>FT</td>\n",
       "      <td>Analytics Engineer</td>\n",
       "      <td>48000</td>\n",
       "      <td>USD</td>\n",
       "      <td>48000</td>\n",
       "      <td>AR</td>\n",
       "      <td>100</td>\n",
       "      <td>US</td>\n",
       "      <td>S</td>\n",
       "    </tr>\n",
       "    <tr>\n",
       "      <th>1860</th>\n",
       "      <td>2022</td>\n",
       "      <td>SE</td>\n",
       "      <td>FT</td>\n",
       "      <td>Data Scientist</td>\n",
       "      <td>146000</td>\n",
       "      <td>USD</td>\n",
       "      <td>146000</td>\n",
       "      <td>US</td>\n",
       "      <td>0</td>\n",
       "      <td>US</td>\n",
       "      <td>M</td>\n",
       "    </tr>\n",
       "    <tr>\n",
       "      <th>2997</th>\n",
       "      <td>2022</td>\n",
       "      <td>SE</td>\n",
       "      <td>FT</td>\n",
       "      <td>Data Architect</td>\n",
       "      <td>113900</td>\n",
       "      <td>USD</td>\n",
       "      <td>113900</td>\n",
       "      <td>US</td>\n",
       "      <td>100</td>\n",
       "      <td>US</td>\n",
       "      <td>M</td>\n",
       "    </tr>\n",
       "  </tbody>\n",
       "</table>\n",
       "</div>"
      ],
      "text/plain": [
       "      work_year experience_level employment_type           job_title  salary  \\\n",
       "3066       2022               SE              FT  Analytics Engineer   48000   \n",
       "1860       2022               SE              FT      Data Scientist  146000   \n",
       "2997       2022               SE              FT      Data Architect  113900   \n",
       "\n",
       "     salary_currency  salary_in_usd employee_residence  remote_ratio  \\\n",
       "3066             USD          48000                 AR           100   \n",
       "1860             USD         146000                 US             0   \n",
       "2997             USD         113900                 US           100   \n",
       "\n",
       "     company_location company_size  \n",
       "3066               US            S  \n",
       "1860               US            M  \n",
       "2997               US            M  "
      ]
     },
     "execution_count": 4,
     "metadata": {},
     "output_type": "execute_result"
    }
   ],
   "source": [
    "df.sample(3)"
   ]
  },
  {
   "cell_type": "code",
   "execution_count": 5,
   "id": "46ab369e",
   "metadata": {},
   "outputs": [
    {
     "data": {
      "text/plain": [
       "(3755, 11)"
      ]
     },
     "execution_count": 5,
     "metadata": {},
     "output_type": "execute_result"
    }
   ],
   "source": [
    "df.shape"
   ]
  },
  {
   "cell_type": "code",
   "execution_count": 6,
   "id": "7acdd990",
   "metadata": {},
   "outputs": [
    {
     "data": {
      "text/plain": [
       "1171"
      ]
     },
     "execution_count": 6,
     "metadata": {},
     "output_type": "execute_result"
    }
   ],
   "source": [
    "df.duplicated().sum()"
   ]
  },
  {
   "cell_type": "code",
   "execution_count": 7,
   "id": "481592a5",
   "metadata": {
    "scrolled": true
   },
   "outputs": [
    {
     "data": {
      "text/plain": [
       "work_year             0\n",
       "experience_level      0\n",
       "employment_type       0\n",
       "job_title             0\n",
       "salary                0\n",
       "salary_currency       0\n",
       "salary_in_usd         0\n",
       "employee_residence    0\n",
       "remote_ratio          0\n",
       "company_location      0\n",
       "company_size          0\n",
       "dtype: int64"
      ]
     },
     "execution_count": 7,
     "metadata": {},
     "output_type": "execute_result"
    }
   ],
   "source": [
    "df.isnull().sum()"
   ]
  },
  {
   "cell_type": "code",
   "execution_count": 8,
   "id": "20a536b2",
   "metadata": {
    "scrolled": true
   },
   "outputs": [
    {
     "data": {
      "text/html": [
       "<div>\n",
       "<style scoped>\n",
       "    .dataframe tbody tr th:only-of-type {\n",
       "        vertical-align: middle;\n",
       "    }\n",
       "\n",
       "    .dataframe tbody tr th {\n",
       "        vertical-align: top;\n",
       "    }\n",
       "\n",
       "    .dataframe thead th {\n",
       "        text-align: right;\n",
       "    }\n",
       "</style>\n",
       "<table border=\"1\" class=\"dataframe\">\n",
       "  <thead>\n",
       "    <tr style=\"text-align: right;\">\n",
       "      <th></th>\n",
       "      <th>work_year</th>\n",
       "      <th>salary</th>\n",
       "      <th>salary_in_usd</th>\n",
       "      <th>remote_ratio</th>\n",
       "    </tr>\n",
       "  </thead>\n",
       "  <tbody>\n",
       "    <tr>\n",
       "      <th>work_year</th>\n",
       "      <td>1.000000</td>\n",
       "      <td>-0.094724</td>\n",
       "      <td>0.228290</td>\n",
       "      <td>-0.236430</td>\n",
       "    </tr>\n",
       "    <tr>\n",
       "      <th>salary</th>\n",
       "      <td>-0.094724</td>\n",
       "      <td>1.000000</td>\n",
       "      <td>-0.023676</td>\n",
       "      <td>0.028731</td>\n",
       "    </tr>\n",
       "    <tr>\n",
       "      <th>salary_in_usd</th>\n",
       "      <td>0.228290</td>\n",
       "      <td>-0.023676</td>\n",
       "      <td>1.000000</td>\n",
       "      <td>-0.064171</td>\n",
       "    </tr>\n",
       "    <tr>\n",
       "      <th>remote_ratio</th>\n",
       "      <td>-0.236430</td>\n",
       "      <td>0.028731</td>\n",
       "      <td>-0.064171</td>\n",
       "      <td>1.000000</td>\n",
       "    </tr>\n",
       "  </tbody>\n",
       "</table>\n",
       "</div>"
      ],
      "text/plain": [
       "               work_year    salary  salary_in_usd  remote_ratio\n",
       "work_year       1.000000 -0.094724       0.228290     -0.236430\n",
       "salary         -0.094724  1.000000      -0.023676      0.028731\n",
       "salary_in_usd   0.228290 -0.023676       1.000000     -0.064171\n",
       "remote_ratio   -0.236430  0.028731      -0.064171      1.000000"
      ]
     },
     "execution_count": 8,
     "metadata": {},
     "output_type": "execute_result"
    }
   ],
   "source": [
    "df.corr()"
   ]
  },
  {
   "cell_type": "code",
   "execution_count": 9,
   "id": "3ee97514",
   "metadata": {},
   "outputs": [
    {
     "data": {
      "text/plain": [
       "<Axes: >"
      ]
     },
     "execution_count": 9,
     "metadata": {},
     "output_type": "execute_result"
    },
    {
     "data": {
      "image/png": "[encoded data removed]",
      "text/plain": [
       "<Figure size 640x480 with 2 Axes>"
      ]
     },
     "metadata": {},
     "output_type": "display_data"
    }
   ],
   "source": [
    "sns.heatmap(df.corr(), cmap ='Greens')"
   ]
  },
  {
   "cell_type": "code",
   "execution_count": 10,
   "id": "9130f036",
   "metadata": {
    "scrolled": true
   },
   "outputs": [
    {
     "data": {
      "text/html": [
       "<div>\n",
       "<style scoped>\n",
       "    .dataframe tbody tr th:only-of-type {\n",
       "        vertical-align: middle;\n",
       "    }\n",
       "\n",
       "    .dataframe tbody tr th {\n",
       "        vertical-align: top;\n",
       "    }\n",
       "\n",
       "    .dataframe thead th {\n",
       "        text-align: right;\n",
       "    }\n",
       "</style>\n",
       "<table border=\"1\" class=\"dataframe\">\n",
       "  <thead>\n",
       "    <tr style=\"text-align: right;\">\n",
       "      <th></th>\n",
       "      <th>work_year</th>\n",
       "      <th>salary</th>\n",
       "      <th>salary_in_usd</th>\n",
       "      <th>remote_ratio</th>\n",
       "    </tr>\n",
       "  </thead>\n",
       "  <tbody>\n",
       "    <tr>\n",
       "      <th>count</th>\n",
       "      <td>3755.000000</td>\n",
       "      <td>3.755000e+03</td>\n",
       "      <td>3755.000000</td>\n",
       "      <td>3755.000000</td>\n",
       "    </tr>\n",
       "    <tr>\n",
       "      <th>mean</th>\n",
       "      <td>2022.373635</td>\n",
       "      <td>1.906956e+05</td>\n",
       "      <td>137570.389880</td>\n",
       "      <td>46.271638</td>\n",
       "    </tr>\n",
       "    <tr>\n",
       "      <th>std</th>\n",
       "      <td>0.691448</td>\n",
       "      <td>6.716765e+05</td>\n",
       "      <td>63055.625278</td>\n",
       "      <td>48.589050</td>\n",
       "    </tr>\n",
       "    <tr>\n",
       "      <th>min</th>\n",
       "      <td>2020.000000</td>\n",
       "      <td>6.000000e+03</td>\n",
       "      <td>5132.000000</td>\n",
       "      <td>0.000000</td>\n",
       "    </tr>\n",
       "    <tr>\n",
       "      <th>25%</th>\n",
       "      <td>2022.000000</td>\n",
       "      <td>1.000000e+05</td>\n",
       "      <td>95000.000000</td>\n",
       "      <td>0.000000</td>\n",
       "    </tr>\n",
       "    <tr>\n",
       "      <th>50%</th>\n",
       "      <td>2022.000000</td>\n",
       "      <td>1.380000e+05</td>\n",
       "      <td>135000.000000</td>\n",
       "      <td>0.000000</td>\n",
       "    </tr>\n",
       "    <tr>\n",
       "      <th>75%</th>\n",
       "      <td>2023.000000</td>\n",
       "      <td>1.800000e+05</td>\n",
       "      <td>175000.000000</td>\n",
       "      <td>100.000000</td>\n",
       "    </tr>\n",
       "    <tr>\n",
       "      <th>max</th>\n",
       "      <td>2023.000000</td>\n",
       "      <td>3.040000e+07</td>\n",
       "      <td>450000.000000</td>\n",
       "      <td>100.000000</td>\n",
       "    </tr>\n",
       "  </tbody>\n",
       "</table>\n",
       "</div>"
      ],
      "text/plain": [
       "         work_year        salary  salary_in_usd  remote_ratio\n",
       "count  3755.000000  3.755000e+03    3755.000000   3755.000000\n",
       "mean   2022.373635  1.906956e+05  137570.389880     46.271638\n",
       "std       0.691448  6.716765e+05   63055.625278     48.589050\n",
       "min    2020.000000  6.000000e+03    5132.000000      0.000000\n",
       "25%    2022.000000  1.000000e+05   95000.000000      0.000000\n",
       "50%    2022.000000  1.380000e+05  135000.000000      0.000000\n",
       "75%    2023.000000  1.800000e+05  175000.000000    100.000000\n",
       "max    2023.000000  3.040000e+07  450000.000000    100.000000"
      ]
     },
     "execution_count": 10,
     "metadata": {},
     "output_type": "execute_result"
    }
   ],
   "source": [
    "df.describe(include=int)"
   ]
  },
  {
   "cell_type": "code",
   "execution_count": 11,
   "id": "5055f7f5",
   "metadata": {},
   "outputs": [
    {
     "data": {
      "text/html": [
       "<div>\n",
       "<style scoped>\n",
       "    .dataframe tbody tr th:only-of-type {\n",
       "        vertical-align: middle;\n",
       "    }\n",
       "\n",
       "    .dataframe tbody tr th {\n",
       "        vertical-align: top;\n",
       "    }\n",
       "\n",
       "    .dataframe thead th {\n",
       "        text-align: right;\n",
       "    }\n",
       "</style>\n",
       "<table border=\"1\" class=\"dataframe\">\n",
       "  <thead>\n",
       "    <tr style=\"text-align: right;\">\n",
       "      <th></th>\n",
       "      <th>experience_level</th>\n",
       "      <th>employment_type</th>\n",
       "      <th>job_title</th>\n",
       "      <th>salary_currency</th>\n",
       "      <th>employee_residence</th>\n",
       "      <th>company_location</th>\n",
       "      <th>company_size</th>\n",
       "    </tr>\n",
       "  </thead>\n",
       "  <tbody>\n",
       "    <tr>\n",
       "      <th>count</th>\n",
       "      <td>3755</td>\n",
       "      <td>3755</td>\n",
       "      <td>3755</td>\n",
       "      <td>3755</td>\n",
       "      <td>3755</td>\n",
       "      <td>3755</td>\n",
       "      <td>3755</td>\n",
       "    </tr>\n",
       "    <tr>\n",
       "      <th>unique</th>\n",
       "      <td>4</td>\n",
       "      <td>4</td>\n",
       "      <td>93</td>\n",
       "      <td>20</td>\n",
       "      <td>78</td>\n",
       "      <td>72</td>\n",
       "      <td>3</td>\n",
       "    </tr>\n",
       "    <tr>\n",
       "      <th>top</th>\n",
       "      <td>SE</td>\n",
       "      <td>FT</td>\n",
       "      <td>Data Engineer</td>\n",
       "      <td>USD</td>\n",
       "      <td>US</td>\n",
       "      <td>US</td>\n",
       "      <td>M</td>\n",
       "    </tr>\n",
       "    <tr>\n",
       "      <th>freq</th>\n",
       "      <td>2516</td>\n",
       "      <td>3718</td>\n",
       "      <td>1040</td>\n",
       "      <td>3224</td>\n",
       "      <td>3004</td>\n",
       "      <td>3040</td>\n",
       "      <td>3153</td>\n",
       "    </tr>\n",
       "  </tbody>\n",
       "</table>\n",
       "</div>"
      ],
      "text/plain": [
       "       experience_level employment_type      job_title salary_currency  \\\n",
       "count              3755            3755           3755            3755   \n",
       "unique                4               4             93              20   \n",
       "top                  SE              FT  Data Engineer             USD   \n",
       "freq               2516            3718           1040            3224   \n",
       "\n",
       "       employee_residence company_location company_size  \n",
       "count                3755             3755         3755  \n",
       "unique                 78               72            3  \n",
       "top                    US               US            M  \n",
       "freq                 3004             3040         3153  "
      ]
     },
     "execution_count": 11,
     "metadata": {},
     "output_type": "execute_result"
    }
   ],
   "source": [
    "df.describe(include=object)"
   ]
  },
  {
   "cell_type": "code",
   "execution_count": 12,
   "id": "886ed103",
   "metadata": {
    "scrolled": true
   },
   "outputs": [
    {
     "name": "stdout",
     "output_type": "stream",
     "text": [
      "<class 'pandas.core.frame.DataFrame'>\n",
      "RangeIndex: 3755 entries, 0 to 3754\n",
      "Data columns (total 11 columns):\n",
      " #   Column              Non-Null Count  Dtype \n",
      "---  ------              --------------  ----- \n",
      " 0   work_year           3755 non-null   int64 \n",
      " 1   experience_level    3755 non-null   object\n",
      " 2   employment_type     3755 non-null   object\n",
      " 3   job_title           3755 non-null   object\n",
      " 4   salary              3755 non-null   int64 \n",
      " 5   salary_currency     3755 non-null   object\n",
      " 6   salary_in_usd       3755 non-null   int64 \n",
      " 7   employee_residence  3755 non-null   object\n",
      " 8   remote_ratio        3755 non-null   int64 \n",
      " 9   company_location    3755 non-null   object\n",
      " 10  company_size        3755 non-null   object\n",
      "dtypes: int64(4), object(7)\n",
      "memory usage: 322.8+ KB\n"
     ]
    }
   ],
   "source": [
    "df.info()"
   ]
  },
  {
   "cell_type": "code",
   "execution_count": 13,
   "id": "e717a38d",
   "metadata": {
    "scrolled": true
   },
   "outputs": [
    {
     "data": {
      "text/plain": [
       "Index(['work_year', 'experience_level', 'employment_type', 'job_title',\n",
       "       'salary', 'salary_currency', 'salary_in_usd', 'employee_residence',\n",
       "       'remote_ratio', 'company_location', 'company_size'],\n",
       "      dtype='object')"
      ]
     },
     "execution_count": 13,
     "metadata": {},
     "output_type": "execute_result"
    }
   ],
   "source": [
    "df.columns"
   ]
  },
  {
   "cell_type": "markdown",
   "id": "10e1e2c6",
   "metadata": {},
   "source": [
    "## Data Preprocessing using :\n",
    "### 1 : Label Encoder \n",
    "### 2 : Simple Imputer"
   ]
  },
  {
   "cell_type": "code",
   "execution_count": 14,
   "id": "bfb630d1",
   "metadata": {},
   "outputs": [
    {
     "name": "stdout",
     "output_type": "stream",
     "text": [
      "      experience_level  employment_type  job_title  salary_currency  \\\n",
      "0                    3                2         84                7   \n",
      "1                    2                0         66               19   \n",
      "2                    2                0         66               19   \n",
      "3                    3                2         47               19   \n",
      "4                    3                2         47               19   \n",
      "...                ...              ...        ...              ...   \n",
      "3750                 3                2         47               19   \n",
      "3751                 2                2         84               19   \n",
      "3752                 0                2         47               19   \n",
      "3753                 0                0         17               19   \n",
      "3754                 3                2         45               12   \n",
      "\n",
      "      employee_residence  company_location  company_size  \n",
      "0                     26                25             0  \n",
      "1                     75                70             2  \n",
      "2                     75                70             2  \n",
      "3                     11                12             1  \n",
      "4                     11                12             1  \n",
      "...                  ...               ...           ...  \n",
      "3750                  75                70             0  \n",
      "3751                  75                70             0  \n",
      "3752                  75                70             2  \n",
      "3753                  75                70             0  \n",
      "3754                  39                38             0  \n",
      "\n",
      "[3755 rows x 7 columns]\n"
     ]
    }
   ],
   "source": [
    "lab = LabelEncoder()\n",
    "\n",
    "new_columns = ['experience_level','employment_type','job_title','salary_currency',\n",
    "               'employee_residence','company_location','company_size']\n",
    "\n",
    "df[new_columns] = df[new_columns].apply(lab.fit_transform)\n",
    "\n",
    "print(df[new_columns])\n"
   ]
  },
  {
   "cell_type": "code",
   "execution_count": 15,
   "id": "1a698827",
   "metadata": {
    "scrolled": false
   },
   "outputs": [
    {
     "data": {
      "text/html": [
       "<div>\n",
       "<style scoped>\n",
       "    .dataframe tbody tr th:only-of-type {\n",
       "        vertical-align: middle;\n",
       "    }\n",
       "\n",
       "    .dataframe tbody tr th {\n",
       "        vertical-align: top;\n",
       "    }\n",
       "\n",
       "    .dataframe thead th {\n",
       "        text-align: right;\n",
       "    }\n",
       "</style>\n",
       "<table border=\"1\" class=\"dataframe\">\n",
       "  <thead>\n",
       "    <tr style=\"text-align: right;\">\n",
       "      <th></th>\n",
       "      <th>work_year</th>\n",
       "      <th>experience_level</th>\n",
       "      <th>employment_type</th>\n",
       "      <th>job_title</th>\n",
       "      <th>salary</th>\n",
       "      <th>salary_currency</th>\n",
       "      <th>salary_in_usd</th>\n",
       "      <th>employee_residence</th>\n",
       "      <th>remote_ratio</th>\n",
       "      <th>company_location</th>\n",
       "      <th>company_size</th>\n",
       "    </tr>\n",
       "  </thead>\n",
       "  <tbody>\n",
       "    <tr>\n",
       "      <th>0</th>\n",
       "      <td>2023</td>\n",
       "      <td>3</td>\n",
       "      <td>2</td>\n",
       "      <td>84</td>\n",
       "      <td>80000</td>\n",
       "      <td>7</td>\n",
       "      <td>85847</td>\n",
       "      <td>26</td>\n",
       "      <td>100</td>\n",
       "      <td>25</td>\n",
       "      <td>0</td>\n",
       "    </tr>\n",
       "    <tr>\n",
       "      <th>1</th>\n",
       "      <td>2023</td>\n",
       "      <td>2</td>\n",
       "      <td>0</td>\n",
       "      <td>66</td>\n",
       "      <td>30000</td>\n",
       "      <td>19</td>\n",
       "      <td>30000</td>\n",
       "      <td>75</td>\n",
       "      <td>100</td>\n",
       "      <td>70</td>\n",
       "      <td>2</td>\n",
       "    </tr>\n",
       "    <tr>\n",
       "      <th>2</th>\n",
       "      <td>2023</td>\n",
       "      <td>2</td>\n",
       "      <td>0</td>\n",
       "      <td>66</td>\n",
       "      <td>25500</td>\n",
       "      <td>19</td>\n",
       "      <td>25500</td>\n",
       "      <td>75</td>\n",
       "      <td>100</td>\n",
       "      <td>70</td>\n",
       "      <td>2</td>\n",
       "    </tr>\n",
       "  </tbody>\n",
       "</table>\n",
       "</div>"
      ],
      "text/plain": [
       "   work_year  experience_level  employment_type  job_title  salary  \\\n",
       "0       2023                 3                2         84   80000   \n",
       "1       2023                 2                0         66   30000   \n",
       "2       2023                 2                0         66   25500   \n",
       "\n",
       "   salary_currency  salary_in_usd  employee_residence  remote_ratio  \\\n",
       "0                7          85847                  26           100   \n",
       "1               19          30000                  75           100   \n",
       "2               19          25500                  75           100   \n",
       "\n",
       "   company_location  company_size  \n",
       "0                25             0  \n",
       "1                70             2  \n",
       "2                70             2  "
      ]
     },
     "execution_count": 15,
     "metadata": {},
     "output_type": "execute_result"
    }
   ],
   "source": [
    "df.head(3)"
   ]
  },
  {
   "cell_type": "code",
   "execution_count": 16,
   "id": "3ba8ab8f",
   "metadata": {
    "scrolled": true
   },
   "outputs": [
    {
     "data": {
      "text/html": [
       "<div>\n",
       "<style scoped>\n",
       "    .dataframe tbody tr th:only-of-type {\n",
       "        vertical-align: middle;\n",
       "    }\n",
       "\n",
       "    .dataframe tbody tr th {\n",
       "        vertical-align: top;\n",
       "    }\n",
       "\n",
       "    .dataframe thead th {\n",
       "        text-align: right;\n",
       "    }\n",
       "</style>\n",
       "<table border=\"1\" class=\"dataframe\">\n",
       "  <thead>\n",
       "    <tr style=\"text-align: right;\">\n",
       "      <th></th>\n",
       "      <th>experience_level</th>\n",
       "      <th>employment_type</th>\n",
       "      <th>job_title</th>\n",
       "      <th>salary</th>\n",
       "      <th>salary_currency</th>\n",
       "      <th>salary_in_usd</th>\n",
       "      <th>employee_residence</th>\n",
       "      <th>remote_ratio</th>\n",
       "      <th>company_location</th>\n",
       "      <th>company_size</th>\n",
       "    </tr>\n",
       "    <tr>\n",
       "      <th>work_year</th>\n",
       "      <th></th>\n",
       "      <th></th>\n",
       "      <th></th>\n",
       "      <th></th>\n",
       "      <th></th>\n",
       "      <th></th>\n",
       "      <th></th>\n",
       "      <th></th>\n",
       "      <th></th>\n",
       "      <th></th>\n",
       "    </tr>\n",
       "  </thead>\n",
       "  <tbody>\n",
       "    <tr>\n",
       "      <th>2023</th>\n",
       "      <td>3</td>\n",
       "      <td>2</td>\n",
       "      <td>84</td>\n",
       "      <td>80000</td>\n",
       "      <td>7</td>\n",
       "      <td>85847</td>\n",
       "      <td>26</td>\n",
       "      <td>100</td>\n",
       "      <td>25</td>\n",
       "      <td>0</td>\n",
       "    </tr>\n",
       "    <tr>\n",
       "      <th>2023</th>\n",
       "      <td>2</td>\n",
       "      <td>0</td>\n",
       "      <td>66</td>\n",
       "      <td>30000</td>\n",
       "      <td>19</td>\n",
       "      <td>30000</td>\n",
       "      <td>75</td>\n",
       "      <td>100</td>\n",
       "      <td>70</td>\n",
       "      <td>2</td>\n",
       "    </tr>\n",
       "  </tbody>\n",
       "</table>\n",
       "</div>"
      ],
      "text/plain": [
       "           experience_level  employment_type  job_title  salary  \\\n",
       "work_year                                                         \n",
       "2023                      3                2         84   80000   \n",
       "2023                      2                0         66   30000   \n",
       "\n",
       "           salary_currency  salary_in_usd  employee_residence  remote_ratio  \\\n",
       "work_year                                                                     \n",
       "2023                     7          85847                  26           100   \n",
       "2023                    19          30000                  75           100   \n",
       "\n",
       "           company_location  company_size  \n",
       "work_year                                  \n",
       "2023                     25             0  \n",
       "2023                     70             2  "
      ]
     },
     "execution_count": 16,
     "metadata": {},
     "output_type": "execute_result"
    }
   ],
   "source": [
    "df.index = df['work_year']\n",
    "df = df.drop(['work_year'],axis=1)\n",
    "df.head(2)"
   ]
  },
  {
   "cell_type": "markdown",
   "id": "15e95fd4",
   "metadata": {},
   "source": [
    "## Train Test Split "
   ]
  },
  {
   "cell_type": "code",
   "execution_count": 17,
   "id": "514ea704",
   "metadata": {},
   "outputs": [],
   "source": [
    "x = df.drop(['salary'],axis=1)\n",
    "y = df['salary']"
   ]
  },
  {
   "cell_type": "code",
   "execution_count": 18,
   "id": "8371382c",
   "metadata": {},
   "outputs": [],
   "source": [
    "train_x, test_x, train_y, test_y = train_test_split(x, y, test_size=0.25)\n",
    "\n",
    "imputer = SimpleImputer(strategy='mean')\n",
    "\n",
    "train_x = imputer.fit_transform(train_x)\n",
    "test_x = imputer.transform(test_x)"
   ]
  },
  {
   "cell_type": "code",
   "execution_count": 19,
   "id": "d340bd70",
   "metadata": {},
   "outputs": [
    {
     "data": {
      "text/plain": [
       "(2816, 9)"
      ]
     },
     "execution_count": 19,
     "metadata": {},
     "output_type": "execute_result"
    }
   ],
   "source": [
    "train_x.shape"
   ]
  },
  {
   "cell_type": "code",
   "execution_count": 20,
   "id": "f063fcb6",
   "metadata": {},
   "outputs": [
    {
     "data": {
      "text/plain": [
       "(2816,)"
      ]
     },
     "execution_count": 20,
     "metadata": {},
     "output_type": "execute_result"
    }
   ],
   "source": [
    "train_y.shape"
   ]
  },
  {
   "cell_type": "code",
   "execution_count": 21,
   "id": "1bcf7c4c",
   "metadata": {},
   "outputs": [
    {
     "data": {
      "text/plain": [
       "(939, 9)"
      ]
     },
     "execution_count": 21,
     "metadata": {},
     "output_type": "execute_result"
    }
   ],
   "source": [
    "test_x.shape"
   ]
  },
  {
   "cell_type": "code",
   "execution_count": 22,
   "id": "f7e79202",
   "metadata": {},
   "outputs": [
    {
     "data": {
      "text/plain": [
       "(939,)"
      ]
     },
     "execution_count": 22,
     "metadata": {},
     "output_type": "execute_result"
    }
   ],
   "source": [
    "test_y.shape"
   ]
  },
  {
   "cell_type": "markdown",
   "id": "9de23b48",
   "metadata": {},
   "source": [
    "## Build Model "
   ]
  },
  {
   "cell_type": "code",
   "execution_count": 23,
   "id": "12868390",
   "metadata": {},
   "outputs": [],
   "source": [
    "model = XGBRegressor(n_estimator=1000,early_stopping_round=50)"
   ]
  },
  {
   "cell_type": "code",
   "execution_count": 24,
   "id": "797dcc0f",
   "metadata": {
    "scrolled": true
   },
   "outputs": [
    {
     "data": {
      "text/html": [
       "<style>#sk-container-id-1 {color: black;background-color: white;}#sk-container-id-1 pre{padding: 0;}#sk-container-id-1 div.sk-toggleable {background-color: white;}#sk-container-id-1 label.sk-toggleable__label {cursor: pointer;display: block;width: 100%;margin-bottom: 0;padding: 0.3em;box-sizing: border-box;text-align: center;}#sk-container-id-1 label.sk-toggleable__label-arrow:before {content: \"▸\";float: left;margin-right: 0.25em;color: #696969;}#sk-container-id-1 label.sk-toggleable__label-arrow:hover:before {color: black;}#sk-container-id-1 div.sk-estimator:hover label.sk-toggleable__label-arrow:before {color: black;}#sk-container-id-1 div.sk-toggleable__content {max-height: 0;max-width: 0;overflow: hidden;text-align: left;background-color: #f0f8ff;}#sk-container-id-1 div.sk-toggleable__content pre {margin: 0.2em;color: black;border-radius: 0.25em;background-color: #f0f8ff;}#sk-container-id-1 input.sk-toggleable__control:checked~div.sk-toggleable__content {max-height: 200px;max-width: 100%;overflow: auto;}#sk-container-id-1 input.sk-toggleable__control:checked~label.sk-toggleable__label-arrow:before {content: \"▾\";}#sk-container-id-1 div.sk-estimator input.sk-toggleable__control:checked~label.sk-toggleable__label {background-color: #d4ebff;}#sk-container-id-1 div.sk-label input.sk-toggleable__control:checked~label.sk-toggleable__label {background-color: #d4ebff;}#sk-container-id-1 input.sk-hidden--visually {border: 0;clip: rect(1px 1px 1px 1px);clip: rect(1px, 1px, 1px, 1px);height: 1px;margin: -1px;overflow: hidden;padding: 0;position: absolute;width: 1px;}#sk-container-id-1 div.sk-estimator {font-family: monospace;background-color: #f0f8ff;border: 1px dotted black;border-radius: 0.25em;box-sizing: border-box;margin-bottom: 0.5em;}#sk-container-id-1 div.sk-estimator:hover {background-color: #d4ebff;}#sk-container-id-1 div.sk-parallel-item::after {content: \"\";width: 100%;border-bottom: 1px solid gray;flex-grow: 1;}#sk-container-id-1 div.sk-label:hover label.sk-toggleable__label {background-color: #d4ebff;}#sk-container-id-1 div.sk-serial::before {content: \"\";position: absolute;border-left: 1px solid gray;box-sizing: border-box;top: 0;bottom: 0;left: 50%;z-index: 0;}#sk-container-id-1 div.sk-serial {display: flex;flex-direction: column;align-items: center;background-color: white;padding-right: 0.2em;padding-left: 0.2em;position: relative;}#sk-container-id-1 div.sk-item {position: relative;z-index: 1;}#sk-container-id-1 div.sk-parallel {display: flex;align-items: stretch;justify-content: center;background-color: white;position: relative;}#sk-container-id-1 div.sk-item::before, #sk-container-id-1 div.sk-parallel-item::before {content: \"\";position: absolute;border-left: 1px solid gray;box-sizing: border-box;top: 0;bottom: 0;left: 50%;z-index: -1;}#sk-container-id-1 div.sk-parallel-item {display: flex;flex-direction: column;z-index: 1;position: relative;background-color: white;}#sk-container-id-1 div.sk-parallel-item:first-child::after {align-self: flex-end;width: 50%;}#sk-container-id-1 div.sk-parallel-item:last-child::after {align-self: flex-start;width: 50%;}#sk-container-id-1 div.sk-parallel-item:only-child::after {width: 0;}#sk-container-id-1 div.sk-dashed-wrapped {border: 1px dashed gray;margin: 0 0.4em 0.5em 0.4em;box-sizing: border-box;padding-bottom: 0.4em;background-color: white;}#sk-container-id-1 div.sk-label label {font-family: monospace;font-weight: bold;display: inline-block;line-height: 1.2em;}#sk-container-id-1 div.sk-label-container {text-align: center;}#sk-container-id-1 div.sk-container {/* jupyter's `normalize.less` sets `[hidden] { display: none; }` but bootstrap.min.css set `[hidden] { display: none !important; }` so we also need the `!important` here to be able to override the default hidden behavior on the sphinx rendered scikit-learn.org. See: https://github.com/scikit-learn/scikit-learn/issues/21755 */display: inline-block !important;position: relative;}#sk-container-id-1 div.sk-text-repr-fallback {display: none;}</style><div id=\"sk-container-id-1\" class=\"sk-top-container\"><div class=\"sk-text-repr-fallback\"><pre>XGBRegressor(base_score=None, booster=None, callbacks=None,\n",
       "             colsample_bylevel=None, colsample_bynode=None,\n",
       "             colsample_bytree=None, device=None, early_stopping_round=50,\n",
       "             early_stopping_rounds=None, enable_categorical=False,\n",
       "             eval_metric=None, feature_types=None, gamma=None, grow_policy=None,\n",
       "             importance_type=None, interaction_constraints=None,\n",
       "             learning_rate=None, max_bin=None, max_cat_threshold=None,\n",
       "             max_cat_to_onehot=None, max_delta_step=None, max_depth=None,\n",
       "             max_leaves=None, min_child_weight=None, missing=nan,\n",
       "             monotone_constraints=None, multi_strategy=None, n_estimator=1000,\n",
       "             n_estimators=None, n_jobs=None, ...)</pre><b>In a Jupyter environment, please rerun this cell to show the HTML representation or trust the notebook. <br />On GitHub, the HTML representation is unable to render, please try loading this page with nbviewer.org.</b></div><div class=\"sk-container\" hidden><div class=\"sk-item\"><div class=\"sk-estimator sk-toggleable\"><input class=\"sk-toggleable__control sk-hidden--visually\" id=\"sk-estimator-id-1\" type=\"checkbox\" checked><label for=\"sk-estimator-id-1\" class=\"sk-toggleable__label sk-toggleable__label-arrow\">XGBRegressor</label><div class=\"sk-toggleable__content\"><pre>XGBRegressor(base_score=None, booster=None, callbacks=None,\n",
       "             colsample_bylevel=None, colsample_bynode=None,\n",
       "             colsample_bytree=None, device=None, early_stopping_round=50,\n",
       "             early_stopping_rounds=None, enable_categorical=False,\n",
       "             eval_metric=None, feature_types=None, gamma=None, grow_policy=None,\n",
       "             importance_type=None, interaction_constraints=None,\n",
       "             learning_rate=None, max_bin=None, max_cat_threshold=None,\n",
       "             max_cat_to_onehot=None, max_delta_step=None, max_depth=None,\n",
       "             max_leaves=None, min_child_weight=None, missing=nan,\n",
       "             monotone_constraints=None, multi_strategy=None, n_estimator=1000,\n",
       "             n_estimators=None, n_jobs=None, ...)</pre></div></div></div></div></div>"
      ],
      "text/plain": [
       "XGBRegressor(base_score=None, booster=None, callbacks=None,\n",
       "             colsample_bylevel=None, colsample_bynode=None,\n",
       "             colsample_bytree=None, device=None, early_stopping_round=50,\n",
       "             early_stopping_rounds=None, enable_categorical=False,\n",
       "             eval_metric=None, feature_types=None, gamma=None, grow_policy=None,\n",
       "             importance_type=None, interaction_constraints=None,\n",
       "             learning_rate=None, max_bin=None, max_cat_threshold=None,\n",
       "             max_cat_to_onehot=None, max_delta_step=None, max_depth=None,\n",
       "             max_leaves=None, min_child_weight=None, missing=nan,\n",
       "             monotone_constraints=None, multi_strategy=None, n_estimator=1000,\n",
       "             n_estimators=None, n_jobs=None, ...)"
      ]
     },
     "execution_count": 24,
     "metadata": {},
     "output_type": "execute_result"
    }
   ],
   "source": [
    "model.fit(train_x,train_y)"
   ]
  },
  {
   "cell_type": "code",
   "execution_count": 25,
   "id": "9c9df6c9",
   "metadata": {},
   "outputs": [
    {
     "data": {
      "text/plain": [
       "0.9999940655903337"
      ]
     },
     "execution_count": 25,
     "metadata": {},
     "output_type": "execute_result"
    }
   ],
   "source": [
    "model.score(train_x,train_y)"
   ]
  },
  {
   "cell_type": "code",
   "execution_count": 26,
   "id": "d4b544e3",
   "metadata": {
    "scrolled": true
   },
   "outputs": [
    {
     "name": "stdout",
     "output_type": "stream",
     "text": [
      "[ 1.91934625e+05  1.40341531e+05  1.34799516e+05  1.99873328e+05\n",
      "  7.74324844e+04  2.20720531e+05  1.32909219e+05  1.10355797e+05\n",
      "  8.01981641e+04  8.49797891e+04  1.54154781e+05  1.85862297e+05\n",
      "  8.05047188e+04  2.25571219e+05  1.75241547e+05  9.01350547e+04\n",
      "  1.66888188e+05  2.51970266e+05  2.05353016e+05  8.40407031e+04\n",
      "  9.97404766e+04  1.60258422e+05  3.69027812e+04  1.29111773e+05\n",
      "  1.26614094e+05  3.78985703e+04  2.98381812e+05  1.35166328e+05\n",
      "  1.61088500e+05  1.15630742e+05  1.56138656e+05  5.30857656e+04\n",
      "  1.55133516e+05  3.52717852e+04  4.98231641e+04  5.56053359e+04\n",
      "  1.22702008e+05  8.48598984e+04  8.61799141e+04  2.00783219e+05\n",
      "  1.22526172e+05  5.17182461e+04  5.46586992e+04  6.50437188e+04\n",
      "  1.15160398e+05  1.42067175e+06  1.47154812e+05  1.70513125e+05\n",
      "  1.98302484e+05  2.45220031e+05  1.40091984e+05  3.59953438e+04\n",
      "  1.93631688e+05  1.05422594e+05  1.26697688e+05  1.05445906e+05\n",
      "  1.40329969e+05  1.51225875e+05  7.77111250e+04  1.47417641e+05\n",
      "  6.50568789e+04  2.97016688e+05  8.13027969e+04  1.15256180e+05\n",
      "  2.48271141e+05  1.42161906e+05  1.65369156e+05  1.30772422e+05\n",
      "  7.27338672e+04  4.47742539e+04  2.11318750e+05  8.52613281e+04\n",
      "  1.19547617e+05  2.06752922e+05  1.20072281e+05  1.55145703e+05\n",
      "  1.50101281e+05  1.85803484e+05  2.02080562e+05  1.09608609e+05\n",
      "  1.48869859e+05  1.22702008e+05  1.55125031e+05  2.22174688e+05\n",
      "  2.18927775e+06  8.50217422e+04  1.29268250e+05  1.49574375e+05\n",
      "  4.47572148e+04  1.19959039e+05 -2.48147998e+03  5.21910898e+04\n",
      "  1.10505148e+05  9.71201641e+04  1.39110234e+05  2.76363062e+05\n",
      "  4.42614180e+04  7.55616016e+04  1.40133125e+05  1.60096812e+05\n",
      "  1.60238438e+05  6.91865234e+04  1.60092422e+05  1.41517344e+05\n",
      "  1.19988688e+05  2.60283625e+05  1.63395068e+04  1.80194125e+05\n",
      "  1.47167000e+05  5.34311680e+04  1.35458203e+05  9.99213906e+04\n",
      "  1.41517344e+05  2.00113391e+05  1.60152609e+05  1.91934625e+05\n",
      "  4.75963047e+04  2.38555672e+05  1.15629336e+05  2.10583234e+05\n",
      "  1.24670484e+05  1.29472516e+05  1.55041656e+05  1.36159297e+05\n",
      "  9.00514609e+04  6.96297578e+04  2.20082531e+05  7.96021719e+04\n",
      "  1.30348211e+05  6.52207891e+04  5.37558867e+04  1.22609766e+05\n",
      "  2.29524297e+05  4.84084619e+03  1.01890820e+05  1.00244758e+05\n",
      "  1.25013914e+05  6.48216641e+04  1.30102961e+05 -6.79107715e+03\n",
      "  1.50957797e+05  1.05381445e+05  6.30741992e+04  5.93000312e+04\n",
      "  1.60164797e+05  1.30115148e+05  1.04253695e+05  2.25579703e+05\n",
      "  1.11469312e+05  3.02885969e+05  8.99714531e+04  3.03408156e+05\n",
      "  1.00147891e+05  1.40174891e+05  1.50192672e+05  1.79991703e+05\n",
      "  1.34798109e+05  1.57778969e+05  1.99780281e+05  6.61066406e+04\n",
      "  2.10203656e+05  1.55133516e+05  1.41517344e+05  1.71005047e+05\n",
      "  1.29590945e+05  1.40104172e+05  8.62666562e+04  1.80212062e+05\n",
      "  8.55830469e+04  1.31694234e+05  1.00147891e+05  1.12803250e+05\n",
      "  2.89558562e+05  1.08263352e+05  2.32931594e+05  1.26397008e+05\n",
      "  1.19738188e+05  5.00111250e+04  1.70512438e+05  1.40103484e+05\n",
      "  5.44176445e+04  1.53525453e+05  1.99700062e+05  1.13713297e+05\n",
      "  1.29546141e+05  1.71067938e+05  1.22702008e+05  2.04076141e+05\n",
      "  1.77295188e+05  1.13318930e+05  5.94525125e+05  1.42710406e+05\n",
      "  1.68283453e+05  5.44695430e+04  1.60250625e+05  1.10355797e+05\n",
      "  1.91934625e+05  5.71226875e+04  1.44825297e+05  1.85811969e+05\n",
      "  8.52159922e+04  1.01635781e+05  1.10355797e+05  4.55161367e+04\n",
      "  1.89332484e+05  1.47403875e+05  5.66662383e+04  1.66969016e+05\n",
      "  1.76670172e+05  6.52207891e+04  1.85803484e+05  6.22989600e+06\n",
      "  2.02087609e+05  1.41517344e+05  1.54298016e+05  1.83997516e+05\n",
      "  2.97016688e+05  8.56851641e+04  1.15987453e+05  1.86178219e+05\n",
      "  1.65377641e+05  8.45308750e+04  2.49958141e+05  1.09652961e+05\n",
      "  1.10355797e+05  1.29481000e+05  1.50078953e+05  2.20075484e+05\n",
      "  1.50097578e+05  1.75160031e+05  1.15715023e+05  1.24573422e+05\n",
      "  1.25963812e+05  3.53421875e+04  2.10710312e+05  1.12494391e+05\n",
      "  6.04038164e+04  2.04954297e+05  2.02089047e+05  2.26117828e+05\n",
      "  9.97661094e+04  1.22913172e+05  1.15515328e+05  1.97609828e+05\n",
      "  1.91934625e+05  2.55469688e+05  1.75529734e+05  1.41002094e+05\n",
      "  7.56942188e+04  5.32094766e+04 -4.04966235e+03  2.34444844e+05\n",
      "  1.50097578e+05  1.15256180e+05  1.00172391e+05  1.06240352e+05\n",
      "  3.45036055e+04  1.29481000e+05  1.35566641e+05  6.20791406e+04\n",
      "  3.45036055e+04  1.42304094e+05  1.34972312e+05  2.33630812e+05\n",
      "  2.20101156e+05  6.47962109e+04  1.62771016e+05  2.50206500e+05\n",
      "  4.18108844e+05  1.05971312e+05  1.85540109e+05  1.15260352e+05\n",
      "  2.25986047e+05  2.51095781e+05  2.44193234e+05  1.23560914e+05\n",
      "  1.60152609e+05  1.31671906e+05  6.51717578e+04  5.99453086e+04\n",
      "  8.03558906e+04  9.34390469e+04  1.15630742e+05  2.48322625e+05\n",
      "  6.71824531e+04  1.85811969e+05  5.95275078e+04  1.99682875e+05\n",
      "  3.70280859e+04  1.20060656e+05  1.80342656e+05  1.00172391e+05\n",
      "  3.40190938e+04  4.72236289e+04  1.44785156e+05  7.97548047e+04\n",
      "  1.55133516e+05  9.48934375e+04  9.49799375e+04  1.04253695e+05\n",
      "  1.50439797e+05  1.19832188e+05  1.00418766e+05  1.75314875e+05\n",
      "  6.61406016e+04  2.32931594e+05  1.91992953e+05  1.08075969e+05\n",
      "  1.03156977e+05  8.00899766e+04  5.26426406e+04  2.36589453e+05\n",
      "  2.47763062e+05  1.91934625e+05  1.55620797e+05  1.50193359e+05\n",
      "  1.26606297e+05  7.01680234e+04  1.35754938e+05  3.15592031e+04\n",
      "  5.02446484e+04  1.55029469e+05  1.40023469e+05  1.60346875e+05\n",
      "  2.64489922e+04  3.94053867e+04  2.33630812e+05  3.03675594e+05\n",
      "  3.45036055e+04  1.60238438e+05  1.62771016e+05  2.51970266e+05\n",
      "  1.60250625e+05  1.06718352e+05  2.16246656e+05  2.50048094e+05\n",
      "  1.60399438e+05  1.13713297e+05  1.34791719e+05  1.50629891e+05\n",
      "  1.00986789e+05  1.40133125e+05  1.89493719e+05  1.22842555e+05\n",
      "  2.60612734e+05  1.85892578e+05  5.25085195e+04  1.05312328e+05\n",
      "  1.67574297e+05  1.55145703e+05  2.30881000e+05  1.05228734e+05\n",
      "  9.01762031e+04  1.99603062e+05  7.74705391e+04  2.25562516e+05\n",
      "  1.00088797e+05  1.47675766e+05  2.15525766e+05  1.70513125e+05\n",
      "  1.40706359e+05  1.41669172e+05  1.50184875e+05  1.44777359e+05\n",
      "  2.00840547e+05  1.41517344e+05  1.50629891e+05  1.51217391e+05\n",
      "  1.54301719e+05  8.98878594e+04  3.41283562e+05  2.04954297e+05\n",
      "  6.40206836e+04  8.00063828e+04  1.75160031e+05  6.98109219e+04\n",
      "  1.80261828e+05  1.30047719e+05  7.55806641e+04  1.70586156e+05\n",
      "  2.47677203e+05  3.08395344e+05  1.92597375e+05  7.82157344e+04\n",
      "  1.30336023e+05  1.34972312e+05  3.39005719e+05  2.99672125e+05\n",
      "  7.87136377e+03  1.85811969e+05  3.96882812e+04  1.97530766e+05\n",
      "  1.05312328e+05  1.10650844e+05  1.51223781e+05  1.85811969e+05\n",
      "  1.54136844e+05  1.19947539e+05  5.29793438e+04  1.86285875e+05\n",
      "  1.75168516e+05  8.21558594e+04  5.94172734e+04  1.19946852e+05\n",
      "  4.46394453e+04  7.70666797e+04  1.50180484e+05  6.93660938e+04\n",
      "  1.63121625e+05  2.02070422e+05  9.39563750e+04  4.63150850e+06\n",
      "  1.40104172e+05  1.68923297e+05  1.33589500e+05  1.15630742e+05\n",
      "  1.06555820e+04  8.52613281e+04  4.55048047e+04  8.93951641e+04\n",
      "  1.22743156e+05  8.30792344e+04  1.80196375e+05  3.74656328e+04\n",
      "  1.40455797e+05  9.28598672e+04  1.12492984e+05  1.26606297e+05\n",
      "  8.96816719e+04  1.54155469e+05  2.10574750e+05  7.74705391e+04\n",
      "  1.10477398e+05  1.55133516e+05  1.19959039e+05  7.45507734e+04\n",
      "  5.50690391e+04  1.19959727e+05  6.98266641e+04  1.30115148e+05\n",
      "  3.90746562e+04  8.00063828e+04  1.80023703e+05  1.61075953e+05\n",
      "  9.48098438e+04  2.10583234e+05  2.60496844e+05  1.35632219e+05\n",
      "  2.04954297e+05  1.08346945e+05  1.55133516e+05  5.60427773e+04\n",
      "  1.20310953e+05  1.66408688e+06  4.21546719e+04  7.75622188e+04\n",
      "  1.35478875e+05  1.85803484e+05  1.77682109e+05  1.97862281e+05\n",
      "  2.36827594e+05  2.50318359e+05  5.49597422e+04  1.50234500e+05\n",
      "  2.45220031e+05  8.05875750e+05  9.53626953e+04  1.85466391e+05\n",
      "  1.95608672e+05  1.30349305e+05  2.05371641e+05  2.03233969e+05\n",
      "  2.29524297e+05  1.56538172e+05  5.03610039e+04  1.15164102e+05\n",
      "  1.02094141e+05  1.26040281e+05  2.05264375e+05  2.10460562e+05\n",
      "  1.05971312e+05  1.61076312e+05  6.32007383e+04  5.97140625e+04\n",
      "  1.65247266e+04  1.19904570e+05  2.04972922e+05  8.13027969e+04\n",
      "  7.65690469e+04  1.62771016e+05  1.20729375e+05  2.25579703e+05\n",
      "  1.40716500e+05  7.56225156e+04  1.23489508e+05  1.50239453e+05\n",
      "  1.31702719e+05  4.74998047e+04  1.75160031e+05  1.30122945e+05\n",
      "  1.80342656e+05  5.06954258e+04  1.00088797e+05  1.50107672e+05\n",
      "  1.61076312e+05  1.39118719e+05  1.51561938e+05  8.65912656e+04\n",
      "  1.44777359e+05  1.23490195e+05  1.65359922e+05  1.06615133e+05\n",
      "  1.48537203e+05  1.93606016e+05  3.27906289e+04  1.19777102e+05\n",
      "  8.92159922e+04  1.49531328e+05  7.55145781e+04  1.54310203e+05\n",
      "  2.04954297e+05  1.24278516e+05  1.61171203e+05  8.55745234e+04\n",
      "  2.04170812e+05  1.44767219e+05  1.75160031e+05  2.25668625e+05\n",
      "  1.44534500e+05  1.49418047e+05  4.51265273e+04  1.89897453e+05\n",
      "  1.85777469e+05  1.30056203e+05  1.83219438e+05  3.45036055e+04\n",
      "  1.75480109e+05  1.55137219e+05  1.30110758e+05  1.57778969e+05\n",
      "  1.54155469e+05  1.38369578e+05  1.15346070e+05  1.06451961e+05\n",
      "  1.83796953e+05  2.48271141e+05  5.85544938e+05  1.24734094e+05\n",
      "  6.52365078e+04  8.96063203e+04  1.33920234e+05  2.79617719e+05\n",
      "  1.00203656e+05  9.56302969e+04  1.10746930e+05  7.67277109e+04\n",
      "  1.50180484e+05  3.23318812e+05  8.96583516e+04  1.06189805e+05\n",
      "  1.19947539e+05  1.99672734e+05  2.04972922e+05  1.10367984e+05\n",
      "  7.97768750e+04  1.15629336e+05  1.43102562e+06  1.91934625e+05\n",
      "  1.05465039e+05  8.82801094e+04  2.10566047e+05  1.44613703e+05\n",
      "  3.08354188e+05  2.02271016e+05  1.85892578e+05  2.36972234e+05\n",
      "  1.40023469e+05  8.52613281e+04  2.61224516e+05  7.24459922e+04\n",
      "  1.12494391e+05  1.99682875e+05  1.00427250e+05  2.05264375e+05\n",
      "  1.00202867e+05  1.41517344e+05  1.99682875e+05  6.75333359e+04\n",
      "  2.02080562e+05  8.03558906e+04  1.10039461e+05  3.47581100e+06\n",
      "  1.24734094e+05  1.24737164e+05  2.50555719e+05  8.14199453e+04\n",
      "  2.76363062e+05  1.00088797e+05  2.36754672e+05  1.39087906e+05\n",
      "  3.76130938e+04  1.50091141e+05  6.33946875e+04  1.02127125e+05\n",
      "  9.00514609e+04  1.10355797e+05  1.63105562e+05  1.06054906e+05\n",
      "  1.77559484e+05  1.44534500e+05  1.55216422e+05  2.63152062e+05\n",
      "  1.15164102e+05  1.50239453e+05  1.05507180e+05  1.20254898e+05\n",
      "  8.98878594e+04  1.73789734e+05  1.19939055e+05  1.20043320e+05\n",
      "  6.48432461e+04  1.61076312e+05  2.33030125e+05  8.50318203e+04\n",
      "  1.38389562e+05  8.56208750e+04  2.49841250e+05  1.29481000e+05\n",
      "  8.96583516e+04  9.02428125e+04  3.02885969e+05  1.02272320e+05\n",
      "  1.40104172e+05  1.19959039e+05  1.34887969e+05  1.51918219e+05\n",
      "  1.60399438e+05  1.80342656e+05  1.99779125e+05  8.46642578e+04\n",
      "  1.49518000e+05  1.34972312e+05  9.79033438e+04  9.71359844e+04\n",
      "  8.96583516e+04  1.22936930e+05  1.89493719e+05  1.79991703e+05\n",
      "  5.51305820e+04  1.89656672e+05  1.29268250e+05  1.70513125e+05\n",
      "  2.62681344e+05  5.78127500e+04  1.99603062e+05  8.96583516e+04\n",
      "  8.25002344e+04  2.25579703e+05  1.99717391e+05  1.51725172e+05\n",
      "  1.00088797e+05  1.44777359e+05  2.03198156e+05  1.80227484e+05\n",
      "  1.31470141e+05  7.61261865e+03  1.29268250e+05  7.23632969e+04\n",
      "  1.26397695e+05  1.30102961e+05  7.70504297e+04  2.62405125e+05\n",
      "  1.39116625e+05 -2.79100781e+04  9.48252344e+04  1.39769641e+05\n",
      "  1.48361453e+05  1.80121094e+05  9.95308047e+04  2.29879734e+05\n",
      "  3.86658750e+05  1.97370562e+05  1.22702008e+05  8.40511562e+04\n",
      "  4.51265273e+04  1.40095688e+05  1.99749688e+05  1.05445906e+05\n",
      "  8.07135312e+04  1.24658297e+05  1.40104172e+05  6.67654297e+04\n",
      "  1.30732953e+05  2.21659703e+05  4.72236289e+04  8.13027969e+04\n",
      "  2.04697094e+05  3.08395344e+05  1.26397008e+05  1.76662375e+05\n",
      "  1.50095484e+05  5.98345156e+04  1.68257031e+05  7.01861953e+04\n",
      "  1.60152609e+05  2.29524297e+05  5.53209531e+04  1.19945445e+05\n",
      "  2.47895000e+05  1.75241547e+05  1.31694234e+05  1.23473141e+05\n",
      "  3.08395344e+05  1.11858016e+05  2.46753250e+06  7.55806641e+04\n",
      "  1.60146438e+05  1.05971312e+05  2.57455328e+05  1.60238438e+05\n",
      "  1.48056750e+05  3.59953438e+04  1.42134047e+05  9.53753438e+04\n",
      "  3.02885969e+05  6.39911602e+04  2.84154004e+04  1.54272562e+05\n",
      "  1.99811344e+05  1.01890820e+05  1.05381445e+05  6.97168125e+04\n",
      "  1.15235508e+05  1.19959039e+05  1.75233062e+05  2.10566047e+05\n",
      "  4.12421133e+04  6.47327461e+04  1.70504641e+05  1.45011641e+05\n",
      "  1.00172391e+05  5.98724141e+04  7.56942188e+04  1.29481000e+05\n",
      "  1.63121625e+05  1.50180484e+05  1.75239453e+05  1.99708547e+05\n",
      "  1.49518000e+05  1.00306664e+05  4.72236289e+04  1.79949984e+05\n",
      "  8.98878594e+04  2.10566047e+05  1.77280391e+05  1.00203656e+05\n",
      "  9.37904844e+04  1.19939055e+05  1.44798031e+05  1.26614781e+05\n",
      "  1.22913172e+05  1.22702008e+05  1.00138430e+05  7.01680234e+04\n",
      "  2.72391531e+05  1.55216422e+05  1.40167094e+05  1.06602945e+05\n",
      "  1.83227922e+05  1.19947539e+05  2.60612734e+05  7.55616016e+04\n",
      "  2.65854938e+05  1.19957633e+05  1.50109078e+05  9.27569188e+05\n",
      "  1.30102961e+05  1.34791719e+05  1.70586156e+05  4.96291602e+04\n",
      "  9.51602344e+04  9.77058672e+04  4.07936328e+04  1.29706805e+05\n",
      "  1.91934625e+05  5.93250664e+04  5.84549102e+04  1.49429547e+05\n",
      "  1.75233062e+05  1.19939055e+05  1.93431234e+05  8.21734531e+04\n",
      "  1.99682875e+05  2.48052359e+05  1.60238438e+05  1.40091984e+05\n",
      "  1.49418047e+05  1.47146328e+05  1.73283891e+05  1.33589500e+05\n",
      "  1.70823516e+05  8.57821797e+04  1.38172750e+05  4.15340469e+04\n",
      "  4.72278320e+04  1.15630742e+05  1.40083500e+05  1.05312328e+05\n",
      "  1.85868531e+05  1.29481000e+05  1.10355797e+05  4.31167188e+04\n",
      "  2.00104906e+05  1.38431391e+05  1.35984078e+05  1.34785922e+05\n",
      "  7.54105781e+04  2.19912172e+05  1.41669172e+05  1.50109766e+05\n",
      "  1.44767219e+05  1.93631688e+05  1.30102961e+05  2.50189312e+05\n",
      "  1.00198727e+05  1.50239453e+05  8.00063828e+04  1.50495984e+05\n",
      "  1.98059859e+05  1.10039461e+05  2.23585840e+04  1.50181172e+05\n",
      "  2.21226203e+05  1.60250625e+05  1.10123531e+05  1.55133516e+05\n",
      "  3.27777406e+05  3.45036055e+04  6.61897500e+04  1.91934625e+05\n",
      "  1.70577672e+05  1.48729234e+05  1.30115148e+05  1.75256281e+05\n",
      "  1.50180484e+05  1.11560031e+05  1.00418766e+05  1.97431984e+05\n",
      "  9.48934375e+04  1.21751188e+05  1.50335562e+05  1.30047719e+05\n",
      "  1.55125031e+05  1.40812750e+05  1.41916000e+05  1.26189617e+05\n",
      "  1.05507180e+05  1.64885391e+05  7.97768750e+04  5.99395664e+04\n",
      "  1.30110758e+05  6.57518438e+04  5.31627500e+04  1.65377641e+05\n",
      "  8.49243203e+04  1.40104172e+05  1.89560422e+05  1.30054109e+05\n",
      "  1.13604859e+05  4.37020281e+05  1.60399438e+05  5.80549500e+05\n",
      "  1.99672734e+05  1.29481000e+05  3.05091156e+05  1.34785922e+05\n",
      "  2.15656750e+05  8.49797891e+04  2.15789590e+04  1.19832188e+05\n",
      "  7.82157344e+04  2.47895000e+05  8.57073906e+04 -3.01286211e+04\n",
      "  2.10557562e+05  5.04779297e+04  7.88980000e+04  4.81635977e+04\n",
      "  1.60399438e+05  1.58471234e+05  1.33589500e+05  1.54154781e+05\n",
      "  1.47695984e+05  1.46978047e+05  8.99714531e+04  1.98319672e+05\n",
      "  9.64547969e+04  1.60105297e+05  1.26389211e+05  1.42161906e+05\n",
      "  2.04954297e+05  7.03169844e+04  1.85811969e+05  1.00978031e+05\n",
      "  8.63815625e+04  6.32675156e+04  2.20075484e+05  2.51095781e+05\n",
      "  1.99700062e+05  1.19959727e+05  1.08127859e+05  7.97768750e+04\n",
      "  2.62405125e+05  1.65359922e+05  9.53599531e+04  1.30102961e+05\n",
      "  1.09612938e+05  7.97768750e+04  4.31353031e+05  1.65434150e+06\n",
      "  1.44777359e+05  1.80227484e+05  1.39727922e+05  4.40138203e+04\n",
      "  1.10364281e+05  1.15987453e+05  1.89568219e+05  1.19786336e+05\n",
      "  7.01680234e+04  1.48549391e+05  1.40091984e+05  1.00039195e+05\n",
      "  4.93805469e+04  1.05451406e+05  1.50101281e+05  1.41517344e+05\n",
      "  4.79828906e+04  1.34779531e+05  1.00172391e+05]\n"
     ]
    }
   ],
   "source": [
    "pred = model.predict(test_x)\n",
    "\n",
    "print(pred)"
   ]
  },
  {
   "cell_type": "code",
   "execution_count": 27,
   "id": "23079199",
   "metadata": {},
   "outputs": [
    {
     "name": "stdout",
     "output_type": "stream",
     "text": [
      "1033123507198.7262\n"
     ]
    }
   ],
   "source": [
    "mse = mean_squared_error(pred,test_y)\n",
    "\n",
    "print(mse)"
   ]
  },
  {
   "cell_type": "code",
   "execution_count": 28,
   "id": "d3bdbb26",
   "metadata": {},
   "outputs": [
    {
     "name": "stdout",
     "output_type": "stream",
     "text": [
      "1016426.8331752789\n"
     ]
    }
   ],
   "source": [
    "sqrt = np.sqrt(mse)\n",
    "\n",
    "print(sqrt)"
   ]
  },
  {
   "cell_type": "markdown",
   "id": "377b7c7a",
   "metadata": {},
   "source": [
    "## Saved Model"
   ]
  },
  {
   "cell_type": "code",
   "execution_count": 29,
   "id": "60b4820b",
   "metadata": {},
   "outputs": [],
   "source": [
    "model.save_model('xgb_model.json')"
   ]
  },
  {
   "cell_type": "markdown",
   "id": "30734657",
   "metadata": {},
   "source": [
    "## Thank You "
   ]
  }
 ],
 "metadata": {
  "kernelspec": {
   "display_name": "Python 3 (ipykernel)",
   "language": "python",
   "name": "python3"
  },
  "language_info": {
   "codemirror_mode": {
    "name": "ipython",
    "version": 3
   },
   "file_extension": ".py",
   "mimetype": "text/x-python",
   "name": "python",
   "nbconvert_exporter": "python",
   "pygments_lexer": "ipython3",
   "version": "3.11.3"
  }
 },
 "nbformat": 4,
 "nbformat_minor": 5
}
